{
 "cells": [
  {
   "cell_type": "markdown",
   "metadata": {},
   "source": [
    "###### Практическая работа №1: Исследование алгоритмов формирования аддитивных цепочек\n",
    "\n",
    "Выполнил студент гр. 0392 Иванов Вячеслав, вариант 76."
   ]
  },
  {
   "cell_type": "markdown",
   "metadata": {},
   "source": [
    "## Цель работы\n",
    "\n",
    "Формирование представления о аддитивных цепочках, выработать умение составлять и применять алгоритмы для нахождения минимальных\n",
    "аддитивных цепочек для заданного числа, привить навык использования\n",
    "систем компьютерной математики для реализации алгоритмов."
   ]
  },
  {
   "cell_type": "markdown",
   "metadata": {},
   "source": [
    "## Основные теоретические положения\n",
    "\n",
    "Приводятся основные теоретические положения для данной практической работы: определения, формулы в стиле $ \\LaTeX $ etc. **Данный пункт является обязательным!**\n",
    "\n",
    "При оформлении формул $ \\LaTeX $ просьба не использовать русские буквы, поскольку возможно некорректное отображение при загрузке на Github."
   ]
  },
  {
   "cell_type": "markdown",
   "metadata": {},
   "source": [
    "## Постановка задачи\n",
    "\n",
    "Реализовать точные и приближённые алгоритмы нахождения минимальных аддитивных цепочек с использованием системы компьютерной математики SageMath, провести анализ алгоритмов. Полученные результаты\n",
    "содержательно проинтерпретировать."
   ]
  },
  {
   "cell_type": "markdown",
   "metadata": {},
   "source": [
    "## Выполнение работы"
   ]
  },
  {
   "cell_type": "markdown",
   "metadata": {},
   "source": [
    "1. Построение последовательностей вычислений бинарным методом и методом множителей\n",
    "\n",
    "n = 62\n",
    "\n",
    "Бинарный метод:\n",
    "\n",
    "\\\\[\n",
    "  n = 62 = 32 + 16 + 8 + 4 + 2 = 110101_2  \n",
    "\\\\]\n",
    "\\\\[\n",
    "(x^1)^2 * x = x^3 \n",
    "\\\\]\n",
    "\\\\[\n",
    "(x^3)^2 * 1 = x^6\n",
    "\\\\]\n",
    "\\\\[\n",
    "(x^6)^2 * x = x^{13}\n",
    "\\\\]\n",
    "\\\\[\n",
    "(x^{13})^2 * 1 = x^{26}\n",
    "\\\\]\n",
    "\\\\[\n",
    "(x^{26})^2 * x = x^{53}\n",
    "\\\\]\n",
    "\n",
    "\\\\[N (operations) = 8 = 5 + 4 - 1 = \\lambda(n) + \\nu(n) - 1\\\\]"
   ]
  },
  {
   "cell_type": "markdown",
   "metadata": {},
   "source": [
    "n = 35\n",
    "\n",
    "Бинарный метод:\n",
    "\n",
    "\\\\[\n",
    "  n = 35 = 32 + 2 + 1 = 100011_2  \n",
    "\\\\]\n",
    "\\\\[\n",
    "(x^1)^2 * 1 = x^2 \n",
    "\\\\]\n",
    "\\\\[\n",
    "(x^2)^2 * 1 = x^4\n",
    "\\\\]\n",
    "\\\\[\n",
    "(x^4)^2 * 1 = x^{8}\n",
    "\\\\]\n",
    "\\\\[\n",
    "(x^{8})^2 * x = x^{17}\n",
    "\\\\]\n",
    "\\\\[\n",
    "(x^{17})^2 * x = x^{35}\n",
    "\\\\]\n",
    "\n",
    "\\\\[N (operations) = 7 = 5 + 3 - 1 = \\lambda(n) + \\nu(n) - 1\\\\]"
   ]
  },
  {
   "cell_type": "markdown",
   "metadata": {},
   "source": [
    "n = 53\n",
    "\n",
    "Метод множителей:\n",
    "\\\\[\n",
    "  n = 53 = 52 + 1\n",
    "\\\\]\n",
    "\\\\[\n",
    "52 = 4 * 13\n",
    "\\\\]\n",
    "\\\\[\n",
    "x \\to x^2 \\to x^4 = y\n",
    "\\\\]\n",
    "\\\\[\n",
    "y \\to y^2 \\to y^3 \\to y^6 \\to y^{12} \\to y^{13}\n",
    "\\\\]\n",
    "\\\\[\n",
    "N(operations) = 1 + 2 + 5 = 8\n",
    "\\\\]\n",
    "\n",
    "Вывод: аналогичное число операций с бинарным методом для числа 53!"
   ]
  },
  {
   "cell_type": "markdown",
   "metadata": {},
   "source": [
    "n = 35\n",
    "\n",
    "Метод множителей:\n",
    "\\\\[\n",
    "35 = 5 * 7\n",
    "\\\\]\n",
    "\\\\[\n",
    "x \\to x^2 \\to x^4 \\to x^5 = y\n",
    "\\\\]\n",
    "\\\\[\n",
    "y \\to y^2 \\to y^3 \\to y^6 \\to y^7\n",
    "\\\\]\n",
    "\\\\[\n",
    "N(operations) = 3 + 4 = 7\n",
    "\\\\]\n",
    "\n",
    "Вывод: аналогичное число операций с бинарным методом для числа 35!"
   ]
  },
  {
   "cell_type": "markdown",
   "metadata": {},
   "source": [
    "2. Алгоритм Яо для вычисления приближённых аддитивных цепочек для различных чисел при варьировании параметра k"
   ]
  },
  {
   "cell_type": "code",
   "execution_count": 3,
   "metadata": {},
   "outputs": [],
   "source": [
    "def YAO(a, b):\n",
    "    number_in_b_sys = [] #храним число в системе счисления 2^b и частные\n",
    "    A = a\n",
    "    base = 2**b\n",
    "    z = [] #храним те числа, которые входят запись числа в с. с. с основанием 2^b\n",
    "    number_in_b_sys.append([a, 0]) #добавляем число и ноль в первую строку\n",
    "    while A >= base: #переводим а в систему счесления\n",
    "        number_in_b_sys.append([A//base, A % base])\n",
    "        z.append(A % base)\n",
    "        A //= base \n",
    "    z.append(number_in_b_sys[len(number_in_b_sys) - 1][0])\n",
    "    meow = z #запись числа в системе\n",
    "    z = list(set(z)) #удаляем копии\n",
    "    z.sort()\n",
    "    print(\"z =\", z)\n",
    "    d = [] #храним d(z)\n",
    "    d_z = [] #храним d(z)*z\n",
    "    for i in z:\n",
    "        d_i = 0;\n",
    "        for j in range(0, len(meow)):\n",
    "            if i == meow[j]:\n",
    "                d_i += (2**b)**j\n",
    "        d.append(d_i)\n",
    "        d_z.append(d_i*i)\n",
    "    print(\"d(z) = \", d)\n",
    "    print(\"z*d(z) = \", d_z)\n",
    "    check = 0\n",
    "    for i in d_z:\n",
    "        check += i\n",
    "    print(check)"
   ]
  },
  {
   "cell_type": "code",
   "execution_count": 4,
   "metadata": {},
   "outputs": [
    {
     "name": "stdout",
     "output_type": "stream",
     "text": [
      "156\n",
      "3\n",
      "z = [2, 3, 4]\n",
      "d(z) =  [64, 8, 1]\n",
      "z*d(z) =  [128, 24, 4]\n",
      "156\n"
     ]
    }
   ],
   "source": [
    "a = int(input())\n",
    "b = int(input())\n",
    "YAO(a, b)"
   ]
  },
  {
   "cell_type": "markdown",
   "metadata": {},
   "source": [
    "3. Алгоритм дробления вектора индексов для нахождения минимальной звёздной цепочки для заданного числа"
   ]
  },
  {
   "cell_type": "code",
   "execution_count": 1,
   "metadata": {},
   "outputs": [],
   "source": [
    "from time import perf_counter_ns    \n",
    "\n",
    "def nu(n): #счет длины Хемминга\n",
    "    n = Integer(n)\n",
    "    return n.popcount()"
   ]
  },
  {
   "cell_type": "code",
   "execution_count": 2,
   "metadata": {},
   "outputs": [],
   "source": [
    "def create_part(m, ch_part): #эта штука создает вектор по умолчанию\n",
    "    vec1 = []\n",
    "    vec2 = []\n",
    "    for i in range(1, m + 1):\n",
    "        if i <= int(ch_part):\n",
    "            vec1.append(i)\n",
    "        else:\n",
    "            vec2.append(i)\n",
    "    return [vec1, vec2]"
   ]
  },
  {
   "cell_type": "code",
   "execution_count": 3,
   "metadata": {},
   "outputs": [],
   "source": [
    "def che(vec): #а эта штука - число по вектору\n",
    "    line = []\n",
    "    line.append(1)\n",
    "    for i in range(len(vec)):\n",
    "        line.append(line[i] + line[vec[i] - 1])\n",
    "    return line[len(line) - 1]"
   ]
  },
  {
   "cell_type": "code",
   "execution_count": 4,
   "metadata": {},
   "outputs": [],
   "source": [
    "def dec(vec):#це декрементирует вектор \n",
    "    _len = len(vec)\n",
    "    for i in range(_len):\n",
    "        if vec[_len - i - 1] > 1:\n",
    "            vec[_len - i - 1] -= 1\n",
    "            for j in range(_len - i, _len):\n",
    "                vec[j] = j + 1\n",
    "            break"
   ]
  },
  {
   "cell_type": "code",
   "execution_count": 5,
   "metadata": {},
   "outputs": [],
   "source": [
    "def generate_part(_len, first):#це генерирует часть вектора\n",
    "    part = [0]*_len\n",
    "    for i in range(_len):\n",
    "        part[i] = first + i\n",
    "    return part"
   ]
  },
  {
   "cell_type": "code",
   "execution_count": 6,
   "metadata": {},
   "outputs": [],
   "source": [
    "def get_chain(vec):#це генерирует цепочку по вектору\n",
    "    line = []\n",
    "    line.append(1)\n",
    "    for i in range(len(vec)):\n",
    "        line.append(line[i] + line[vec[i] - 1])\n",
    "    return line"
   ]
  },
  {
   "cell_type": "code",
   "execution_count": 7,
   "metadata": {},
   "outputs": [],
   "source": [
    "def dect(vec):# проверка возможности декрементрирования\n",
    "    for i in vec:\n",
    "        if i > 1:\n",
    "            return False\n",
    "    return True"
   ]
  },
  {
   "cell_type": "code",
   "execution_count": 8,
   "metadata": {},
   "outputs": [],
   "source": [
    "def vochcyc(n):\n",
    "    start = perf_counter_ns()\n",
    "    l_min = math.ceil(math.log2(n)) #минимум\n",
    "    l_max = int(math.log2(n) + nu(n)) #максимум\n",
    "    for m in range(l_min, l_max):#перебор всех длин векторов\n",
    "        q = int(m/2)\n",
    "        vec = create_part(m, q)\n",
    "        fix = generate_part(q, 1)\n",
    "        \n",
    "        while True: # перебор всех возможных фикс частей\n",
    "            change = generate_part(m - q, q + 1)\n",
    "            bounds = [0]*2\n",
    "            a = che(fix)\n",
    "            bounds[0] = a + m - q\n",
    "            bounds[1] = a * 2 ** (m - q)\n",
    "\n",
    "            \n",
    "            if n < bounds[0] or n > bounds[1]:\n",
    "                if dect(fix) and len(fix) > 1:\n",
    "                    break\n",
    "                dec(fix)\n",
    "                continue\n",
    "                \n",
    "            while True: #перебор меняющихся частей\n",
    "                if che(fix + change) == n:\n",
    "                    return fix + change\n",
    "                if dect(change):\n",
    "                    break\n",
    "                dec(change)\n",
    "            if dect(fix):\n",
    "                break\n",
    "            dec(fix)\n",
    "            "
   ]
  },
  {
   "cell_type": "code",
   "execution_count": 10,
   "metadata": {},
   "outputs": [
    {
     "name": "stdout",
     "output_type": "stream",
     "text": [
      "1128\n",
      "Ваш вектор:   [1, 2, 3, 4, 5, 6, 7, 8, 9, 10, 7, 6, 4]\n",
      "Ваша цепочка: [1, 2, 4, 8, 16, 32, 64, 128, 256, 512, 1024, 1088, 1120, 1128]\n",
      "time = 33.5296732 s\n"
     ]
    }
   ],
   "source": [
    "n = int(input())\n",
    "start = perf_counter_ns()\n",
    "vova = vochcyc(n)\n",
    "print(\"Ваш вектор:  \", vova)\n",
    "print(\"Ваша цепочка:\", get_chain(vova))\n",
    "print(f\"time = {float((perf_counter_ns() - start) / 10**9)} s\")"
   ]
  },
  {
   "cell_type": "markdown",
   "metadata": {},
   "source": [
    "4. Проверка гипотезы Шольца–Брауэра для всех натуральных 1 <= 𝑛 <= 12 на алгоритме дробления вектора индексов"
   ]
  },
  {
   "cell_type": "code",
   "execution_count": null,
   "metadata": {},
   "outputs": [
    {
     "name": "stdout",
     "output_type": "stream",
     "text": [
      "n = 1 , l(n) = 1 , l(2^n - 1) = 1\n",
      "l(2^n - 1) <= n - 1 + l(n):  True\n",
      "\n",
      "n = 2 , l(n) = 2 , l(2^n - 1) = 3\n",
      "l(2^n - 1) <= n - 1 + l(n):  True\n",
      "\n",
      "n = 3 , l(n) = 3 , l(2^n - 1) = 5\n",
      "l(2^n - 1) <= n - 1 + l(n):  True\n",
      "\n",
      "n = 4 , l(n) = 3 , l(2^n - 1) = 6\n",
      "l(2^n - 1) <= n - 1 + l(n):  True\n",
      "\n",
      "n = 5 , l(n) = 4 , l(2^n - 1) = 8\n",
      "l(2^n - 1) <= n - 1 + l(n):  True\n",
      "\n",
      "n = 6 , l(n) = 4 , l(2^n - 1) = 9\n",
      "l(2^n - 1) <= n - 1 + l(n):  True\n",
      "\n",
      "n = 7 , l(n) = 5 , l(2^n - 1) = 11\n",
      "l(2^n - 1) <= n - 1 + l(n):  True\n",
      "\n",
      "n = 8 , l(n) = 4 , l(2^n - 1) = 11\n",
      "l(2^n - 1) <= n - 1 + l(n):  True\n",
      "\n",
      "n = 9 , l(n) = 5 , l(2^n - 1) = 13\n",
      "l(2^n - 1) <= n - 1 + l(n):  True\n",
      "\n"
     ]
    }
   ],
   "source": [
    "for i in range(1, 12):\n",
    "    k = vochcyc(i)\n",
    "    _k = vochcyc(2**i - 1)\n",
    "    chain = get_chain(k)\n",
    "    _chain = get_chain(_k)\n",
    "    print(\"n =\", i, \", l(n) =\", len(chain), \", l(2^n - 1) =\", len(_chain))\n",
    "    print(\"l(2^n - 1) <= n - 1 + l(n): \", len(_chain) <= i - 1 + len(chain))\n",
    "    print()\n",
    "    "
   ]
  },
  {
   "cell_type": "markdown",
   "metadata": {},
   "source": [
    "## "
   ]
  },
  {
   "cell_type": "markdown",
   "metadata": {},
   "source": [
    "## Выводы\n",
    "\n",
    "Таким образом, в рамках данной работы были исследованы различные методы построения аддитивных цепочек. Было построено несколько приближенных аддитивных цепочек алгоритмом Яо и точные звездные цепочки для тех же значений  алгоритмом дробления вектора индексов.\n",
    "\n",
    "Выяснено, что алгоритм дробления строит более эффективные цепочки, однако время его выполнения значительно больше. С его помощью была проверена гипотеза Шольца-Брауэра для чисел от 1 до 12. Также в данной работе мы применяли оформление формул Latex."
   ]
  }
 ],
 "metadata": {
  "kernelspec": {
   "display_name": "SageMath 9.3",
   "language": "sage",
   "name": "sagemath"
  },
  "language_info": {
   "codemirror_mode": {
    "name": "ipython",
    "version": 3
   },
   "file_extension": ".py",
   "mimetype": "text/x-python",
   "name": "python",
   "nbconvert_exporter": "python",
   "pygments_lexer": "ipython3",
   "version": "3.7.10"
  }
 },
 "nbformat": 4,
 "nbformat_minor": 4
}
